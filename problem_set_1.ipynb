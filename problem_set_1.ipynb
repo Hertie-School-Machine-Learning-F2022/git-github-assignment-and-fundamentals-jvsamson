{
  "nbformat": 4,
  "nbformat_minor": 0,
  "metadata": {
    "colab": {
      "provenance": [],
      "include_colab_link": true
    },
    "kernelspec": {
      "name": "python3",
      "display_name": "Python 3"
    },
    "language_info": {
      "name": "python"
    }
  },
  "cells": [
    {
      "cell_type": "markdown",
      "metadata": {
        "id": "view-in-github",
        "colab_type": "text"
      },
      "source": [
        "<a href=\"https://colab.research.google.com/github/Hertie-School-Machine-Learning-F2022/git-github-assignment-and-fundamentals-jvsamson/blob/main/problem_set_1.ipynb\" target=\"_parent\"><img src=\"https://colab.research.google.com/assets/colab-badge.svg\" alt=\"Open In Colab\"/></a>"
      ]
    },
    {
      "cell_type": "markdown",
      "source": [
        "# Problem set 1\n",
        "\n",
        "## Student name: \n",
        "\n",
        "## Submit by: Thursday 22.09.2022, 23:59\n",
        "\n",
        "#### You will go over some of the things that we saw in class today, and will answer the quiz based on the outcome of your computational process. You also need to submit the script to demostrate the process you used to get to the answers.\n",
        "\n",
        "For this problem set you DO NOT NEED to set training and testing data."
      ],
      "metadata": {
        "id": "GFFALBB_XSwW"
      }
    },
    {
      "cell_type": "markdown",
      "source": [
        "## Question 1."
      ],
      "metadata": {
        "id": "OwR7wci3YAKX"
      }
    },
    {
      "cell_type": "code",
      "source": [
        "#from sklearn.datasets import load_diabetes and set X and y\n",
        "from sklearn import datasets\n",
        "\n",
        "X,y = datasets.load_diabetes(return_X_y = True, as_frame = True)\n",
        "\n",
        "# Take some time to understand the dataset\n",
        "# take a look at it as a DataFrame object\n",
        "X\n",
        "# For this problem DO NOT SET training and testing data. We will use the same data\n",
        "# throughout the problem set."
      ],
      "metadata": {
        "id": "7nGQZ9YXhkrR",
        "outputId": "232c3088-d735-4162-8ae5-9d87975662f4",
        "colab": {
          "base_uri": "https://localhost:8080/",
          "height": 419
        }
      },
      "execution_count": 29,
      "outputs": [
        {
          "output_type": "execute_result",
          "data": {
            "text/plain": [
              "          age       sex       bmi        bp        s1        s2        s3  \\\n",
              "0    0.038076  0.050680  0.061696  0.021872 -0.044223 -0.034821 -0.043401   \n",
              "1   -0.001882 -0.044642 -0.051474 -0.026328 -0.008449 -0.019163  0.074412   \n",
              "2    0.085299  0.050680  0.044451 -0.005671 -0.045599 -0.034194 -0.032356   \n",
              "3   -0.089063 -0.044642 -0.011595 -0.036656  0.012191  0.024991 -0.036038   \n",
              "4    0.005383 -0.044642 -0.036385  0.021872  0.003935  0.015596  0.008142   \n",
              "..        ...       ...       ...       ...       ...       ...       ...   \n",
              "437  0.041708  0.050680  0.019662  0.059744 -0.005697 -0.002566 -0.028674   \n",
              "438 -0.005515  0.050680 -0.015906 -0.067642  0.049341  0.079165 -0.028674   \n",
              "439  0.041708  0.050680 -0.015906  0.017282 -0.037344 -0.013840 -0.024993   \n",
              "440 -0.045472 -0.044642  0.039062  0.001215  0.016318  0.015283 -0.028674   \n",
              "441 -0.045472 -0.044642 -0.073030 -0.081414  0.083740  0.027809  0.173816   \n",
              "\n",
              "           s4        s5        s6  \n",
              "0   -0.002592  0.019908 -0.017646  \n",
              "1   -0.039493 -0.068330 -0.092204  \n",
              "2   -0.002592  0.002864 -0.025930  \n",
              "3    0.034309  0.022692 -0.009362  \n",
              "4   -0.002592 -0.031991 -0.046641  \n",
              "..        ...       ...       ...  \n",
              "437 -0.002592  0.031193  0.007207  \n",
              "438  0.034309 -0.018118  0.044485  \n",
              "439 -0.011080 -0.046879  0.015491  \n",
              "440  0.026560  0.044528 -0.025930  \n",
              "441 -0.039493 -0.004220  0.003064  \n",
              "\n",
              "[442 rows x 10 columns]"
            ],
            "text/html": [
              "\n",
              "  <div id=\"df-196fc479-d1c5-487b-a110-d0d03a8367ff\">\n",
              "    <div class=\"colab-df-container\">\n",
              "      <div>\n",
              "<style scoped>\n",
              "    .dataframe tbody tr th:only-of-type {\n",
              "        vertical-align: middle;\n",
              "    }\n",
              "\n",
              "    .dataframe tbody tr th {\n",
              "        vertical-align: top;\n",
              "    }\n",
              "\n",
              "    .dataframe thead th {\n",
              "        text-align: right;\n",
              "    }\n",
              "</style>\n",
              "<table border=\"1\" class=\"dataframe\">\n",
              "  <thead>\n",
              "    <tr style=\"text-align: right;\">\n",
              "      <th></th>\n",
              "      <th>age</th>\n",
              "      <th>sex</th>\n",
              "      <th>bmi</th>\n",
              "      <th>bp</th>\n",
              "      <th>s1</th>\n",
              "      <th>s2</th>\n",
              "      <th>s3</th>\n",
              "      <th>s4</th>\n",
              "      <th>s5</th>\n",
              "      <th>s6</th>\n",
              "    </tr>\n",
              "  </thead>\n",
              "  <tbody>\n",
              "    <tr>\n",
              "      <th>0</th>\n",
              "      <td>0.038076</td>\n",
              "      <td>0.050680</td>\n",
              "      <td>0.061696</td>\n",
              "      <td>0.021872</td>\n",
              "      <td>-0.044223</td>\n",
              "      <td>-0.034821</td>\n",
              "      <td>-0.043401</td>\n",
              "      <td>-0.002592</td>\n",
              "      <td>0.019908</td>\n",
              "      <td>-0.017646</td>\n",
              "    </tr>\n",
              "    <tr>\n",
              "      <th>1</th>\n",
              "      <td>-0.001882</td>\n",
              "      <td>-0.044642</td>\n",
              "      <td>-0.051474</td>\n",
              "      <td>-0.026328</td>\n",
              "      <td>-0.008449</td>\n",
              "      <td>-0.019163</td>\n",
              "      <td>0.074412</td>\n",
              "      <td>-0.039493</td>\n",
              "      <td>-0.068330</td>\n",
              "      <td>-0.092204</td>\n",
              "    </tr>\n",
              "    <tr>\n",
              "      <th>2</th>\n",
              "      <td>0.085299</td>\n",
              "      <td>0.050680</td>\n",
              "      <td>0.044451</td>\n",
              "      <td>-0.005671</td>\n",
              "      <td>-0.045599</td>\n",
              "      <td>-0.034194</td>\n",
              "      <td>-0.032356</td>\n",
              "      <td>-0.002592</td>\n",
              "      <td>0.002864</td>\n",
              "      <td>-0.025930</td>\n",
              "    </tr>\n",
              "    <tr>\n",
              "      <th>3</th>\n",
              "      <td>-0.089063</td>\n",
              "      <td>-0.044642</td>\n",
              "      <td>-0.011595</td>\n",
              "      <td>-0.036656</td>\n",
              "      <td>0.012191</td>\n",
              "      <td>0.024991</td>\n",
              "      <td>-0.036038</td>\n",
              "      <td>0.034309</td>\n",
              "      <td>0.022692</td>\n",
              "      <td>-0.009362</td>\n",
              "    </tr>\n",
              "    <tr>\n",
              "      <th>4</th>\n",
              "      <td>0.005383</td>\n",
              "      <td>-0.044642</td>\n",
              "      <td>-0.036385</td>\n",
              "      <td>0.021872</td>\n",
              "      <td>0.003935</td>\n",
              "      <td>0.015596</td>\n",
              "      <td>0.008142</td>\n",
              "      <td>-0.002592</td>\n",
              "      <td>-0.031991</td>\n",
              "      <td>-0.046641</td>\n",
              "    </tr>\n",
              "    <tr>\n",
              "      <th>...</th>\n",
              "      <td>...</td>\n",
              "      <td>...</td>\n",
              "      <td>...</td>\n",
              "      <td>...</td>\n",
              "      <td>...</td>\n",
              "      <td>...</td>\n",
              "      <td>...</td>\n",
              "      <td>...</td>\n",
              "      <td>...</td>\n",
              "      <td>...</td>\n",
              "    </tr>\n",
              "    <tr>\n",
              "      <th>437</th>\n",
              "      <td>0.041708</td>\n",
              "      <td>0.050680</td>\n",
              "      <td>0.019662</td>\n",
              "      <td>0.059744</td>\n",
              "      <td>-0.005697</td>\n",
              "      <td>-0.002566</td>\n",
              "      <td>-0.028674</td>\n",
              "      <td>-0.002592</td>\n",
              "      <td>0.031193</td>\n",
              "      <td>0.007207</td>\n",
              "    </tr>\n",
              "    <tr>\n",
              "      <th>438</th>\n",
              "      <td>-0.005515</td>\n",
              "      <td>0.050680</td>\n",
              "      <td>-0.015906</td>\n",
              "      <td>-0.067642</td>\n",
              "      <td>0.049341</td>\n",
              "      <td>0.079165</td>\n",
              "      <td>-0.028674</td>\n",
              "      <td>0.034309</td>\n",
              "      <td>-0.018118</td>\n",
              "      <td>0.044485</td>\n",
              "    </tr>\n",
              "    <tr>\n",
              "      <th>439</th>\n",
              "      <td>0.041708</td>\n",
              "      <td>0.050680</td>\n",
              "      <td>-0.015906</td>\n",
              "      <td>0.017282</td>\n",
              "      <td>-0.037344</td>\n",
              "      <td>-0.013840</td>\n",
              "      <td>-0.024993</td>\n",
              "      <td>-0.011080</td>\n",
              "      <td>-0.046879</td>\n",
              "      <td>0.015491</td>\n",
              "    </tr>\n",
              "    <tr>\n",
              "      <th>440</th>\n",
              "      <td>-0.045472</td>\n",
              "      <td>-0.044642</td>\n",
              "      <td>0.039062</td>\n",
              "      <td>0.001215</td>\n",
              "      <td>0.016318</td>\n",
              "      <td>0.015283</td>\n",
              "      <td>-0.028674</td>\n",
              "      <td>0.026560</td>\n",
              "      <td>0.044528</td>\n",
              "      <td>-0.025930</td>\n",
              "    </tr>\n",
              "    <tr>\n",
              "      <th>441</th>\n",
              "      <td>-0.045472</td>\n",
              "      <td>-0.044642</td>\n",
              "      <td>-0.073030</td>\n",
              "      <td>-0.081414</td>\n",
              "      <td>0.083740</td>\n",
              "      <td>0.027809</td>\n",
              "      <td>0.173816</td>\n",
              "      <td>-0.039493</td>\n",
              "      <td>-0.004220</td>\n",
              "      <td>0.003064</td>\n",
              "    </tr>\n",
              "  </tbody>\n",
              "</table>\n",
              "<p>442 rows × 10 columns</p>\n",
              "</div>\n",
              "      <button class=\"colab-df-convert\" onclick=\"convertToInteractive('df-196fc479-d1c5-487b-a110-d0d03a8367ff')\"\n",
              "              title=\"Convert this dataframe to an interactive table.\"\n",
              "              style=\"display:none;\">\n",
              "        \n",
              "  <svg xmlns=\"http://www.w3.org/2000/svg\" height=\"24px\"viewBox=\"0 0 24 24\"\n",
              "       width=\"24px\">\n",
              "    <path d=\"M0 0h24v24H0V0z\" fill=\"none\"/>\n",
              "    <path d=\"M18.56 5.44l.94 2.06.94-2.06 2.06-.94-2.06-.94-.94-2.06-.94 2.06-2.06.94zm-11 1L8.5 8.5l.94-2.06 2.06-.94-2.06-.94L8.5 2.5l-.94 2.06-2.06.94zm10 10l.94 2.06.94-2.06 2.06-.94-2.06-.94-.94-2.06-.94 2.06-2.06.94z\"/><path d=\"M17.41 7.96l-1.37-1.37c-.4-.4-.92-.59-1.43-.59-.52 0-1.04.2-1.43.59L10.3 9.45l-7.72 7.72c-.78.78-.78 2.05 0 2.83L4 21.41c.39.39.9.59 1.41.59.51 0 1.02-.2 1.41-.59l7.78-7.78 2.81-2.81c.8-.78.8-2.07 0-2.86zM5.41 20L4 18.59l7.72-7.72 1.47 1.35L5.41 20z\"/>\n",
              "  </svg>\n",
              "      </button>\n",
              "      \n",
              "  <style>\n",
              "    .colab-df-container {\n",
              "      display:flex;\n",
              "      flex-wrap:wrap;\n",
              "      gap: 12px;\n",
              "    }\n",
              "\n",
              "    .colab-df-convert {\n",
              "      background-color: #E8F0FE;\n",
              "      border: none;\n",
              "      border-radius: 50%;\n",
              "      cursor: pointer;\n",
              "      display: none;\n",
              "      fill: #1967D2;\n",
              "      height: 32px;\n",
              "      padding: 0 0 0 0;\n",
              "      width: 32px;\n",
              "    }\n",
              "\n",
              "    .colab-df-convert:hover {\n",
              "      background-color: #E2EBFA;\n",
              "      box-shadow: 0px 1px 2px rgba(60, 64, 67, 0.3), 0px 1px 3px 1px rgba(60, 64, 67, 0.15);\n",
              "      fill: #174EA6;\n",
              "    }\n",
              "\n",
              "    [theme=dark] .colab-df-convert {\n",
              "      background-color: #3B4455;\n",
              "      fill: #D2E3FC;\n",
              "    }\n",
              "\n",
              "    [theme=dark] .colab-df-convert:hover {\n",
              "      background-color: #434B5C;\n",
              "      box-shadow: 0px 1px 3px 1px rgba(0, 0, 0, 0.15);\n",
              "      filter: drop-shadow(0px 1px 2px rgba(0, 0, 0, 0.3));\n",
              "      fill: #FFFFFF;\n",
              "    }\n",
              "  </style>\n",
              "\n",
              "      <script>\n",
              "        const buttonEl =\n",
              "          document.querySelector('#df-196fc479-d1c5-487b-a110-d0d03a8367ff button.colab-df-convert');\n",
              "        buttonEl.style.display =\n",
              "          google.colab.kernel.accessAllowed ? 'block' : 'none';\n",
              "\n",
              "        async function convertToInteractive(key) {\n",
              "          const element = document.querySelector('#df-196fc479-d1c5-487b-a110-d0d03a8367ff');\n",
              "          const dataTable =\n",
              "            await google.colab.kernel.invokeFunction('convertToInteractive',\n",
              "                                                     [key], {});\n",
              "          if (!dataTable) return;\n",
              "\n",
              "          const docLinkHtml = 'Like what you see? Visit the ' +\n",
              "            '<a target=\"_blank\" href=https://colab.research.google.com/notebooks/data_table.ipynb>data table notebook</a>'\n",
              "            + ' to learn more about interactive tables.';\n",
              "          element.innerHTML = '';\n",
              "          dataTable['output_type'] = 'display_data';\n",
              "          await google.colab.output.renderOutput(dataTable, element);\n",
              "          const docLink = document.createElement('div');\n",
              "          docLink.innerHTML = docLinkHtml;\n",
              "          element.appendChild(docLink);\n",
              "        }\n",
              "      </script>\n",
              "    </div>\n",
              "  </div>\n",
              "  "
            ]
          },
          "metadata": {},
          "execution_count": 29
        }
      ]
    },
    {
      "cell_type": "markdown",
      "source": [
        "How many variables are in X?"
      ],
      "metadata": {
        "id": "gJM0RWChiDJh"
      }
    },
    {
      "cell_type": "markdown",
      "source": [
        "## Question 2"
      ],
      "metadata": {
        "id": "gnYj7rp4YC85"
      }
    },
    {
      "cell_type": "code",
      "source": [
        "# Import the SGD Linear Regression algorithm \n",
        "# SGD stands for Stochastic Gradient Descent: the gradient of the loss is \n",
        "# estimated each sample at a time and the model is updated along the way \n",
        "# with a decreasing strength schedule (aka learning rate).\n",
        "from sklearn.linear_model import SGDRegressor\n",
        "\n",
        "# Set it as the mod variable\n",
        "mod = SGDRegressor()\n",
        "\n",
        "# Take a look at the parameters\n",
        "\n",
        "mod.get_params()"
      ],
      "metadata": {
        "id": "A-3u3_nsYEfr",
        "outputId": "14dd22d6-50a6-451e-9ce1-60845e41c607",
        "colab": {
          "base_uri": "https://localhost:8080/"
        }
      },
      "execution_count": 60,
      "outputs": [
        {
          "output_type": "execute_result",
          "data": {
            "text/plain": [
              "{'alpha': 0.0001,\n",
              " 'average': False,\n",
              " 'early_stopping': False,\n",
              " 'epsilon': 0.1,\n",
              " 'eta0': 0.01,\n",
              " 'fit_intercept': True,\n",
              " 'l1_ratio': 0.15,\n",
              " 'learning_rate': 'invscaling',\n",
              " 'loss': 'squared_error',\n",
              " 'max_iter': 1000,\n",
              " 'n_iter_no_change': 5,\n",
              " 'penalty': 'l2',\n",
              " 'power_t': 0.25,\n",
              " 'random_state': None,\n",
              " 'shuffle': True,\n",
              " 'tol': 0.001,\n",
              " 'validation_fraction': 0.1,\n",
              " 'verbose': 0,\n",
              " 'warm_start': False}"
            ]
          },
          "metadata": {},
          "execution_count": 60
        }
      ]
    },
    {
      "cell_type": "markdown",
      "source": [
        "What are the parameters of the Linear Regression model?"
      ],
      "metadata": {
        "id": "fvzKrAsDjrw0"
      }
    },
    {
      "cell_type": "markdown",
      "source": [
        "## Question 3."
      ],
      "metadata": {
        "id": "zSB12OsWYE6i"
      }
    },
    {
      "cell_type": "code",
      "source": [
        "# Import the Standard Scaler and take a look at the parameters\n",
        "from sklearn.preprocessing import StandardScaler\n",
        "\n",
        "\n",
        "scaler = StandardScaler()\n",
        "\n",
        "scaler.get_params()\n",
        "\n",
        "\n"
      ],
      "metadata": {
        "id": "Abs9a_v8YFYx",
        "outputId": "e188e334-f230-41ff-bccf-16f237bfbf11",
        "colab": {
          "base_uri": "https://localhost:8080/"
        }
      },
      "execution_count": 63,
      "outputs": [
        {
          "output_type": "execute_result",
          "data": {
            "text/plain": [
              "{'copy': True, 'with_mean': True, 'with_std': True}"
            ]
          },
          "metadata": {},
          "execution_count": 63
        }
      ]
    },
    {
      "cell_type": "markdown",
      "source": [
        "What are the default option at which with_mean and with_std are set?"
      ],
      "metadata": {
        "id": "fk3CtAdKkNr2"
      }
    },
    {
      "cell_type": "markdown",
      "source": [
        "## Question 4."
      ],
      "metadata": {
        "id": "GiVldJW2YFp8"
      }
    },
    {
      "cell_type": "code",
      "source": [
        "# Create a pipeline using the two previous steps, for the model\n",
        "# set the SGDRegressor parameter random_state = 123 to reproduce results.\n",
        "\n",
        "from sklearn.pipeline import Pipeline\n",
        "\n",
        "pipe = Pipeline([('scalar', StandardScaler()),\n",
        "                 ('model', SGDRegressor(random_state = 123))\n",
        "                 ])\n",
        "\n",
        "#Fit and predict the pipe, print results\n",
        "\n",
        "pipe.fit(X, y)\n",
        "\n",
        "pred = pipe.predict(X)\n",
        "\n",
        "print(pred)\n",
        "\n"
      ],
      "metadata": {
        "id": "lzkAXHECYF-B",
        "outputId": "fcd9dfc6-9c33-4042-a598-7abf7a4ed4ba",
        "colab": {
          "base_uri": "https://localhost:8080/"
        }
      },
      "execution_count": 32,
      "outputs": [
        {
          "output_type": "stream",
          "name": "stdout",
          "text": [
            "[203.33036868  71.44132129 174.18891477 162.71569477 128.16421117\n",
            " 106.46855937  78.15730757 121.62004635 158.74826584 213.76124061\n",
            " 100.98211756 103.73467041 115.03992428 161.20630252 102.6303906\n",
            " 171.97711381 209.73110688 180.81360592 146.07389902 122.1424965\n",
            " 117.92285927  90.98734606 118.17218061 274.4655061  163.9397713\n",
            " 143.2871305   96.67844807 177.95194312 127.41767326 183.54905596\n",
            " 159.43389974  69.77413097 255.02234683 108.1211581   81.21817834\n",
            "  83.17022348 207.09177574 154.32172729 241.77566415 134.31684727\n",
            " 151.34086198  73.70253571 142.29831916  79.3959324  216.42832247\n",
            " 123.27110149 140.07339717 106.78414486  77.56835256 184.29213326\n",
            " 157.61488977 166.75142807 133.16057603 157.67450941 141.39374227\n",
            "  75.07925504 204.50631377  80.93999369  97.49830527 132.8776951\n",
            " 115.85130194 173.87422053  67.65618223 100.03150385 112.1795103\n",
            " 184.1488148  143.49271947 122.81903331 111.76812462 123.97308723\n",
            "  76.74540703 235.144183   147.46308363 121.55975232 149.57473269\n",
            " 124.7121005  190.81196569  82.50598968 162.69182574  95.1027723\n",
            " 172.58544777 119.33475818  67.75923536 150.60884639  58.50989203\n",
            " 169.69041017  51.3669072  150.9479257   79.32981451 104.73385835\n",
            "  85.51521055 185.76537109 188.74958697  60.35262033 107.21191793\n",
            " 121.2859701  205.92911181 212.26685332 122.37736338 134.75145114\n",
            " 166.62990435 106.31417214 149.58343139 157.92751839 157.78117419\n",
            " 113.12255388  75.72403706 158.45632186 226.25725112 142.17928104\n",
            "  52.8346843  121.64612857 152.26987817 205.79719773 299.63900785\n",
            " 189.42447334 210.39811889 236.29276813 161.89872139 147.19410326\n",
            " 156.65124439 197.16433461 216.67553511 169.36656603 167.66437291\n",
            " 189.65047402  66.69472666 106.11113547  92.63009737 207.19835869\n",
            " 242.52672837  71.6606423  112.65164735  72.20081735 141.38632861\n",
            " 235.87251642  61.88075408 232.10360787 252.01827862 251.65460328\n",
            " 156.79879385 224.61294554 170.19929963 119.0307146  174.89822767\n",
            " 239.97361304 187.5055852  226.04102065 114.87955468 173.94988424\n",
            " 208.7187044  142.2357548  194.39908199 121.98001186 148.92972557\n",
            " 197.80197684 145.26428014 121.00435508  85.20442123 233.82408593\n",
            "  83.42011817 233.31480386 143.53728735 196.87872055 142.41203067\n",
            "  78.10987803  64.41080911 265.00478305 223.63388758 242.36908953\n",
            "  55.72533956  90.14528615 223.23871675  94.21769515 160.90740378\n",
            " 120.13898939 156.16607642 222.48536334 102.33969786 162.87688933\n",
            " 175.01994871  89.79996523 168.67228455 154.94339041 198.92136846\n",
            " 184.90087667 192.42275394  73.2804659  153.32854153 113.72909811\n",
            " 191.27542161 124.46814344  92.77290759 137.62998346 151.92841821\n",
            " 167.56351644  98.29829202 186.71357717 149.7984103  182.18834842\n",
            "  95.87034721  71.37153672 169.92717213 193.55305668 174.40860096\n",
            " 226.9197531  157.3651685  211.70613335 220.15077897 169.69166378\n",
            " 127.54360006 176.05902416 151.46958199  98.18049241  98.35164987\n",
            " 260.31399485 217.11748946 220.08528118 129.04607545 140.61570336\n",
            "  63.69376107 139.30738756 151.27485064 122.31652143  77.26802291\n",
            " 228.40150955  78.75829421 105.66217911 116.72378588  98.55341646\n",
            " 166.80943996 156.03780804 154.61156079 142.3318397  231.76068864\n",
            " 173.43499816 184.87492177  67.57420893 184.36822056 180.23443409\n",
            " 231.50941695 119.7283982   91.0164206  101.0202656  141.22764132\n",
            " 102.2467612  119.30233129  79.01494123 233.69890411 246.29026699\n",
            " 265.97977392 276.43802536 178.67875924 201.36439611 269.00727773\n",
            " 115.38730914 264.76873113 101.13870949 114.91784553 142.06672829\n",
            "  63.98321686 125.71190857 260.74884705  49.81008443 128.03522317\n",
            " 127.62211101  40.97504872 136.16849495 240.35873488  86.99648464\n",
            " 188.94254986 163.08976873 146.45510848 201.63983265 173.21401106\n",
            " 154.73865573 190.59876976 113.87848455 108.43529333 116.25623995\n",
            " 162.34623229  91.83392276 139.00437063  88.4600844  156.77810215\n",
            " 197.60947042  74.9431812  146.05014061  85.17109857 189.7366765\n",
            " 218.39780582 205.16835366  95.6333142  183.78661444  88.74919092\n",
            " 151.03261475  79.67642247 103.08123338 106.25982333 122.26215649\n",
            " 216.33562098 124.44773762 204.5196202  233.48545039 121.63750246\n",
            " 129.51708733 128.42869874 144.97534245  90.71269239 137.41136777\n",
            " 203.61181883 170.86604553 124.10298896 212.13042631 173.0344333\n",
            " 109.28587161 198.33337411 170.63442203 160.79415054 188.36166002\n",
            " 188.18160056 288.51818828 297.00236448 233.9164236  208.01287929\n",
            " 219.32445962 152.68414553 223.20503021 186.04682507 101.59423882\n",
            " 176.30404423 111.84980534 290.15090958 178.6441829   82.34863793\n",
            "  88.1395379  249.41219398 170.21585515 121.96900703 145.35743988\n",
            " 172.14916608 184.06998175 164.29759794 161.68519525 141.26678785\n",
            " 123.0030275  178.5926205  100.62550248 128.61156807  96.43474716\n",
            " 250.72873813  87.90625887  56.74732283 178.96363024 195.88158341\n",
            " 132.45479259  92.63140168 200.01686594  59.01639187 170.58898565\n",
            " 193.50369168 124.62868887 232.83994174 159.81611779 155.8074659\n",
            " 159.4751174  254.23576016 255.36697121 200.05054173 182.10887183\n",
            "  61.24039547 209.83294999 107.66700242 142.72050044 124.28676965\n",
            " 177.0138496  210.13460863 165.28066778 160.56524024 136.56036758\n",
            " 177.55772524  71.07873418 256.74435918 113.01909057 110.63502125\n",
            " 138.51887819 109.28250958 102.39175693 160.08617321  76.02323398\n",
            " 263.53861976  60.46745786  99.65998995 101.36950417 278.21928867\n",
            " 166.00002992  69.94020257 179.21005389 170.79218909 187.85617899\n",
            " 186.10095898  87.97786328 142.96294571 251.67805277 200.29291231\n",
            " 279.99205068  52.37095333 175.91970653 202.67066048 169.80710095\n",
            " 157.97464162 154.5090638  231.09263201 122.61915047 163.34930459\n",
            " 167.81518118 227.67799386 152.46856881  99.31689476  84.94386369\n",
            " 140.02823692 188.62630734 198.79552478 147.71537973 167.28610439\n",
            " 109.25282112 159.19445388 130.81133824 258.67551396 101.05021313\n",
            " 113.2915116  119.87279158 217.75415024  61.70158597 134.43935786\n",
            " 120.3504542   55.06892187 190.95036467 100.82225143 123.33109822\n",
            " 209.32369093  47.94763424]\n"
          ]
        }
      ]
    },
    {
      "cell_type": "markdown",
      "source": [
        "What are the first 4 predicted values? "
      ],
      "metadata": {
        "id": "m8_OvAAalaWM"
      }
    },
    {
      "cell_type": "markdown",
      "source": [
        "Question 5."
      ],
      "metadata": {
        "id": "u7GHpq7FYGQB"
      }
    },
    {
      "cell_type": "code",
      "source": [
        "# Now create a GridSearchCV Object using the previous pipe object,\n",
        "# where the parameter 'model__alpa' is set to try 0.0001, 0.005, 0.001.\n",
        "# Set cross validation to 3 times.\n",
        "from sklearn.model_selection import GridSearchCV\n",
        "\n",
        "mod = GridSearchCV(estimator = pipe,\n",
        "                   param_grid={'model__alpha': [0.0001, 0.005, 0.001]},\n",
        "                   cv = 3)\n"
      ],
      "metadata": {
        "id": "DFbW7-gPYGjl"
      },
      "execution_count": 33,
      "outputs": []
    },
    {
      "cell_type": "markdown",
      "source": [
        "How are you supposed to write the values of the parameter 'alpha'?"
      ],
      "metadata": {
        "id": "qCUnrjFJnY-X"
      }
    },
    {
      "cell_type": "markdown",
      "source": [
        "Question 6."
      ],
      "metadata": {
        "id": "2EN6DfL2YHCC"
      }
    },
    {
      "cell_type": "code",
      "source": [
        "# Now fit the GridSearch model from above and see the results \n",
        "# (Hint: to make sure we all get the same results, you had to use the pipe that\n",
        "# was set in question 4 making sure we used the same random_state = 123)\n",
        "import pandas as pd\n",
        "\n",
        "mod.fit(X, y)\n",
        "\n",
        "pd.DataFrame(mod.cv_results_)\n"
      ],
      "metadata": {
        "id": "46sNANbrYHdb",
        "outputId": "74ec95c5-7640-46d1-f5d9-7b9958d20867",
        "colab": {
          "base_uri": "https://localhost:8080/",
          "height": 257
        }
      },
      "execution_count": 34,
      "outputs": [
        {
          "output_type": "execute_result",
          "data": {
            "text/plain": [
              "   mean_fit_time  std_fit_time  mean_score_time  std_score_time  \\\n",
              "0       0.004286      0.000858         0.001427        0.000332   \n",
              "1       0.003197      0.000155         0.001152        0.000006   \n",
              "2       0.003173      0.000142         0.001145        0.000004   \n",
              "\n",
              "  param_model__alpha                    params  split0_test_score  \\\n",
              "0             0.0001  {'model__alpha': 0.0001}           0.466105   \n",
              "1              0.005   {'model__alpha': 0.005}           0.465869   \n",
              "2              0.001   {'model__alpha': 0.001}           0.466062   \n",
              "\n",
              "   split1_test_score  split2_test_score  mean_test_score  std_test_score  \\\n",
              "0           0.489906           0.502306         0.486106        0.015021   \n",
              "1           0.490301           0.502853         0.486341        0.015356   \n",
              "2           0.489980           0.502408         0.486150        0.015083   \n",
              "\n",
              "   rank_test_score  \n",
              "0                3  \n",
              "1                1  \n",
              "2                2  "
            ],
            "text/html": [
              "\n",
              "  <div id=\"df-d1b8f8cf-b5a4-44ed-9b5b-9ba7c03bdbfc\">\n",
              "    <div class=\"colab-df-container\">\n",
              "      <div>\n",
              "<style scoped>\n",
              "    .dataframe tbody tr th:only-of-type {\n",
              "        vertical-align: middle;\n",
              "    }\n",
              "\n",
              "    .dataframe tbody tr th {\n",
              "        vertical-align: top;\n",
              "    }\n",
              "\n",
              "    .dataframe thead th {\n",
              "        text-align: right;\n",
              "    }\n",
              "</style>\n",
              "<table border=\"1\" class=\"dataframe\">\n",
              "  <thead>\n",
              "    <tr style=\"text-align: right;\">\n",
              "      <th></th>\n",
              "      <th>mean_fit_time</th>\n",
              "      <th>std_fit_time</th>\n",
              "      <th>mean_score_time</th>\n",
              "      <th>std_score_time</th>\n",
              "      <th>param_model__alpha</th>\n",
              "      <th>params</th>\n",
              "      <th>split0_test_score</th>\n",
              "      <th>split1_test_score</th>\n",
              "      <th>split2_test_score</th>\n",
              "      <th>mean_test_score</th>\n",
              "      <th>std_test_score</th>\n",
              "      <th>rank_test_score</th>\n",
              "    </tr>\n",
              "  </thead>\n",
              "  <tbody>\n",
              "    <tr>\n",
              "      <th>0</th>\n",
              "      <td>0.004286</td>\n",
              "      <td>0.000858</td>\n",
              "      <td>0.001427</td>\n",
              "      <td>0.000332</td>\n",
              "      <td>0.0001</td>\n",
              "      <td>{'model__alpha': 0.0001}</td>\n",
              "      <td>0.466105</td>\n",
              "      <td>0.489906</td>\n",
              "      <td>0.502306</td>\n",
              "      <td>0.486106</td>\n",
              "      <td>0.015021</td>\n",
              "      <td>3</td>\n",
              "    </tr>\n",
              "    <tr>\n",
              "      <th>1</th>\n",
              "      <td>0.003197</td>\n",
              "      <td>0.000155</td>\n",
              "      <td>0.001152</td>\n",
              "      <td>0.000006</td>\n",
              "      <td>0.005</td>\n",
              "      <td>{'model__alpha': 0.005}</td>\n",
              "      <td>0.465869</td>\n",
              "      <td>0.490301</td>\n",
              "      <td>0.502853</td>\n",
              "      <td>0.486341</td>\n",
              "      <td>0.015356</td>\n",
              "      <td>1</td>\n",
              "    </tr>\n",
              "    <tr>\n",
              "      <th>2</th>\n",
              "      <td>0.003173</td>\n",
              "      <td>0.000142</td>\n",
              "      <td>0.001145</td>\n",
              "      <td>0.000004</td>\n",
              "      <td>0.001</td>\n",
              "      <td>{'model__alpha': 0.001}</td>\n",
              "      <td>0.466062</td>\n",
              "      <td>0.489980</td>\n",
              "      <td>0.502408</td>\n",
              "      <td>0.486150</td>\n",
              "      <td>0.015083</td>\n",
              "      <td>2</td>\n",
              "    </tr>\n",
              "  </tbody>\n",
              "</table>\n",
              "</div>\n",
              "      <button class=\"colab-df-convert\" onclick=\"convertToInteractive('df-d1b8f8cf-b5a4-44ed-9b5b-9ba7c03bdbfc')\"\n",
              "              title=\"Convert this dataframe to an interactive table.\"\n",
              "              style=\"display:none;\">\n",
              "        \n",
              "  <svg xmlns=\"http://www.w3.org/2000/svg\" height=\"24px\"viewBox=\"0 0 24 24\"\n",
              "       width=\"24px\">\n",
              "    <path d=\"M0 0h24v24H0V0z\" fill=\"none\"/>\n",
              "    <path d=\"M18.56 5.44l.94 2.06.94-2.06 2.06-.94-2.06-.94-.94-2.06-.94 2.06-2.06.94zm-11 1L8.5 8.5l.94-2.06 2.06-.94-2.06-.94L8.5 2.5l-.94 2.06-2.06.94zm10 10l.94 2.06.94-2.06 2.06-.94-2.06-.94-.94-2.06-.94 2.06-2.06.94z\"/><path d=\"M17.41 7.96l-1.37-1.37c-.4-.4-.92-.59-1.43-.59-.52 0-1.04.2-1.43.59L10.3 9.45l-7.72 7.72c-.78.78-.78 2.05 0 2.83L4 21.41c.39.39.9.59 1.41.59.51 0 1.02-.2 1.41-.59l7.78-7.78 2.81-2.81c.8-.78.8-2.07 0-2.86zM5.41 20L4 18.59l7.72-7.72 1.47 1.35L5.41 20z\"/>\n",
              "  </svg>\n",
              "      </button>\n",
              "      \n",
              "  <style>\n",
              "    .colab-df-container {\n",
              "      display:flex;\n",
              "      flex-wrap:wrap;\n",
              "      gap: 12px;\n",
              "    }\n",
              "\n",
              "    .colab-df-convert {\n",
              "      background-color: #E8F0FE;\n",
              "      border: none;\n",
              "      border-radius: 50%;\n",
              "      cursor: pointer;\n",
              "      display: none;\n",
              "      fill: #1967D2;\n",
              "      height: 32px;\n",
              "      padding: 0 0 0 0;\n",
              "      width: 32px;\n",
              "    }\n",
              "\n",
              "    .colab-df-convert:hover {\n",
              "      background-color: #E2EBFA;\n",
              "      box-shadow: 0px 1px 2px rgba(60, 64, 67, 0.3), 0px 1px 3px 1px rgba(60, 64, 67, 0.15);\n",
              "      fill: #174EA6;\n",
              "    }\n",
              "\n",
              "    [theme=dark] .colab-df-convert {\n",
              "      background-color: #3B4455;\n",
              "      fill: #D2E3FC;\n",
              "    }\n",
              "\n",
              "    [theme=dark] .colab-df-convert:hover {\n",
              "      background-color: #434B5C;\n",
              "      box-shadow: 0px 1px 3px 1px rgba(0, 0, 0, 0.15);\n",
              "      filter: drop-shadow(0px 1px 2px rgba(0, 0, 0, 0.3));\n",
              "      fill: #FFFFFF;\n",
              "    }\n",
              "  </style>\n",
              "\n",
              "      <script>\n",
              "        const buttonEl =\n",
              "          document.querySelector('#df-d1b8f8cf-b5a4-44ed-9b5b-9ba7c03bdbfc button.colab-df-convert');\n",
              "        buttonEl.style.display =\n",
              "          google.colab.kernel.accessAllowed ? 'block' : 'none';\n",
              "\n",
              "        async function convertToInteractive(key) {\n",
              "          const element = document.querySelector('#df-d1b8f8cf-b5a4-44ed-9b5b-9ba7c03bdbfc');\n",
              "          const dataTable =\n",
              "            await google.colab.kernel.invokeFunction('convertToInteractive',\n",
              "                                                     [key], {});\n",
              "          if (!dataTable) return;\n",
              "\n",
              "          const docLinkHtml = 'Like what you see? Visit the ' +\n",
              "            '<a target=\"_blank\" href=https://colab.research.google.com/notebooks/data_table.ipynb>data table notebook</a>'\n",
              "            + ' to learn more about interactive tables.';\n",
              "          element.innerHTML = '';\n",
              "          dataTable['output_type'] = 'display_data';\n",
              "          await google.colab.output.renderOutput(dataTable, element);\n",
              "          const docLink = document.createElement('div');\n",
              "          docLink.innerHTML = docLinkHtml;\n",
              "          element.appendChild(docLink);\n",
              "        }\n",
              "      </script>\n",
              "    </div>\n",
              "  </div>\n",
              "  "
            ]
          },
          "metadata": {},
          "execution_count": 34
        }
      ]
    },
    {
      "cell_type": "markdown",
      "source": [
        "Which is the best model? Look at the rank_test_value"
      ],
      "metadata": {
        "id": "byN7vPtHon9l"
      }
    },
    {
      "cell_type": "markdown",
      "source": [
        "Question 7.\n",
        "\n",
        "Find out which test score is the one that is reported above in mean_test_score. What is it and how do you interpret this results?"
      ],
      "metadata": {
        "id": "u1uts1sGYHwM"
      }
    }
  ]
}